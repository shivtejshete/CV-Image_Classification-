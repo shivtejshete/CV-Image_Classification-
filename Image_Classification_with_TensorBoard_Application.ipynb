{
  "nbformat": 4,
  "nbformat_minor": 0,
  "metadata": {
    "colab": {
      "name": "CNN with TensorBoard ",
      "provenance": [],
      "toc_visible": true,
      "mount_file_id": "1JAOF__YoOxU509Ba5mZxkIyda3HvkPFk",
      "authorship_tag": "ABX9TyO0VFI+0lUNmkk0isl0lzhX",
      "include_colab_link": true
    },
    "kernelspec": {
      "name": "python3",
      "display_name": "Python 3"
    }
  },
  "cells": [
    {
      "cell_type": "markdown",
      "metadata": {
        "id": "view-in-github",
        "colab_type": "text"
      },
      "source": [
        "<a href=\"https://colab.research.google.com/github/shivtejshete/Computer-Vision/blob/master/Image_Classification_with_TensorBoard_Application.ipynb\" target=\"_parent\"><img src=\"https://colab.research.google.com/assets/colab-badge.svg\" alt=\"Open In Colab\"/></a>"
      ]
    },
    {
      "cell_type": "markdown",
      "metadata": {
        "id": "YLsGqonV4CnZ",
        "colab_type": "text"
      },
      "source": [
        "# Deep Learning : Simple DNN to Classify Images, and application of TensorBoard.dev"
      ]
    },
    {
      "cell_type": "code",
      "metadata": {
        "id": "Wm5Si7dj4Bfn",
        "colab_type": "code",
        "colab": {}
      },
      "source": [
        "#Importing the necessary libraries\n",
        "import tensorflow as tf\n",
        "import keras\n",
        "import tensorflow.keras.datasets.fashion_mnist as data\n",
        "import numpy as np\n",
        "from time import time \n",
        "import matplotlib.pyplot as plt"
      ],
      "execution_count": null,
      "outputs": []
    },
    {
      "cell_type": "markdown",
      "metadata": {
        "id": "r9f92Bl54azk",
        "colab_type": "text"
      },
      "source": [
        "###1. Loading Data"
      ]
    },
    {
      "cell_type": "code",
      "metadata": {
        "id": "0LxcPk0c6N1B",
        "colab_type": "code",
        "colab": {}
      },
      "source": [
        "#Assigning the raw datafrom Keras dataset - Fashion MNIST\n",
        "raw_data = data"
      ],
      "execution_count": 4,
      "outputs": []
    },
    {
      "cell_type": "code",
      "metadata": {
        "id": "UARLkH9C7Ry2",
        "colab_type": "code",
        "colab": {
          "base_uri": "https://localhost:8080/",
          "height": 151
        },
        "outputId": "27494777-e87f-4db5-8c79-8cfc439d59a4"
      },
      "source": [
        "#Loading the dataset into training and validation dataset\n",
        "(train_image, train_label), (test_image, test_label) =  raw_data.load_data( )"
      ],
      "execution_count": 5,
      "outputs": [
        {
          "output_type": "stream",
          "text": [
            "Downloading data from https://storage.googleapis.com/tensorflow/tf-keras-datasets/train-labels-idx1-ubyte.gz\n",
            "32768/29515 [=================================] - 0s 0us/step\n",
            "Downloading data from https://storage.googleapis.com/tensorflow/tf-keras-datasets/train-images-idx3-ubyte.gz\n",
            "26427392/26421880 [==============================] - 0s 0us/step\n",
            "Downloading data from https://storage.googleapis.com/tensorflow/tf-keras-datasets/t10k-labels-idx1-ubyte.gz\n",
            "8192/5148 [===============================================] - 0s 0us/step\n",
            "Downloading data from https://storage.googleapis.com/tensorflow/tf-keras-datasets/t10k-images-idx3-ubyte.gz\n",
            "4423680/4422102 [==============================] - 0s 0us/step\n"
          ],
          "name": "stdout"
        }
      ]
    },
    {
      "cell_type": "markdown",
      "metadata": {
        "id": "DQGPK9L84hr8",
        "colab_type": "text"
      },
      "source": [
        "###2. Data Inspection"
      ]
    },
    {
      "cell_type": "code",
      "metadata": {
        "id": "4wUu9NvL6N4F",
        "colab_type": "code",
        "colab": {
          "base_uri": "https://localhost:8080/",
          "height": 84
        },
        "outputId": "8c43b93a-d3f9-49bb-f19f-48ff47944f35"
      },
      "source": [
        "#checking the input volume shape \n",
        "print(\"Total Training Images :{}\".format(train_image.shape[0]))\n",
        "print(\"Training Images Shape (ht,wd) :{} X {}\".format(train_image.shape[1],train_image.shape[2]))\n",
        "print(\"Total Testing Images :{}\".format(test_image.shape[0]))\n",
        "print(\"Testing Images Shape (ht,wd) :{} X {}\".format(test_image.shape[1],test_image.shape[2]))\n"
      ],
      "execution_count": 228,
      "outputs": [
        {
          "output_type": "stream",
          "text": [
            "Total Training Images :60000\n",
            "Training Images Shape (ht,wd) :28 X 28\n",
            "Total Testing Images :10000\n",
            "Testing Images Shape (ht,wd) :28 X 28\n"
          ],
          "name": "stdout"
        }
      ]
    },
    {
      "cell_type": "markdown",
      "metadata": {
        "id": "6CkU-rVj4rRw",
        "colab_type": "text"
      },
      "source": [
        "###3. Rescaling Data"
      ]
    },
    {
      "cell_type": "code",
      "metadata": {
        "id": "Pkq0NS8T76Bj",
        "colab_type": "code",
        "colab": {}
      },
      "source": [
        "#rescaling the images for better training of Neural Network\n",
        "train_image = train_image/255.0  \n",
        "test_image = test_image/255.0"
      ],
      "execution_count": 14,
      "outputs": []
    },
    {
      "cell_type": "code",
      "metadata": {
        "id": "b7uj9x_Yujiy",
        "colab_type": "code",
        "colab": {}
      },
      "source": [
        "#Existing Image classes from Fashion MNIST - in original Order\n",
        "class_labels= ['T-shirt/top',\n",
        "          'Trouser',\n",
        "          'Pullover',\n",
        "          'Dress',\n",
        "          'Coat',\n",
        "          'Sandal',\n",
        "          'Shirt',\n",
        "          'Sneaker',\n",
        "          'Bag',\n",
        "          'Ankle boot']"
      ],
      "execution_count": 233,
      "outputs": []
    },
    {
      "cell_type": "markdown",
      "metadata": {
        "id": "oJEFkZB34wI5",
        "colab_type": "text"
      },
      "source": [
        "###4. Sample Images Visualization"
      ]
    },
    {
      "cell_type": "code",
      "metadata": {
        "id": "7gmIKXgJ8VBV",
        "colab_type": "code",
        "colab": {
          "base_uri": "https://localhost:8080/",
          "height": 729
        },
        "outputId": "7ddd876b-ed53-49bb-97e4-11aee0034a8b"
      },
      "source": [
        "#Visualizing some of the training images\n",
        "\n",
        "fig, ax= plt.subplots(3,3, figsize=(10,10) )\n",
        "for i,img in enumerate(ax.flatten()):\n",
        "  img.pcolor(train_image[i])\n",
        "  img.set_title(class_labels[train_label[i]])\n",
        "plt.tight_layout()"
      ],
      "execution_count": 234,
      "outputs": [
        {
          "output_type": "display_data",
          "data": {
            "image/png": "[encoded data removed]",
            "text/plain": [
              "<Figure size 720x720 with 9 Axes>"
            ]
          },
          "metadata": {
            "tags": [],
            "needs_background": "light"
          }
        }
      ]
    },
    {
      "cell_type": "markdown",
      "metadata": {
        "id": "PIpChjhQ42w8",
        "colab_type": "text"
      },
      "source": [
        "###5. Building the Model Architecture"
      ]
    },
    {
      "cell_type": "code",
      "metadata": {
        "id": "h9ZQORypA71i",
        "colab_type": "code",
        "colab": {}
      },
      "source": [
        "#Defining a very Simple Deep Neural Network with Softmax as activation function of the top layer for multi-class classification\n",
        "model = keras.Sequential()\n",
        "model.add(keras.layers.Flatten())\n",
        "model.add(keras.layers.Dense(256, activation= 'relu', use_bias= True))\n",
        "model.add(keras.layers.Dropout(rate= .2))\n",
        "model.add(keras.layers.Dense(64, activation='relu', use_bias=True))\n",
        "model.add(keras.layers.Dropout(rate= .2))\n",
        "model.add(keras.layers.Dense(10, activation='softmax' ))"
      ],
      "execution_count": 193,
      "outputs": []
    },
    {
      "cell_type": "markdown",
      "metadata": {
        "id": "GhQPs9Dc47Sf",
        "colab_type": "text"
      },
      "source": [
        "###6. Defining TensorBoard for Training visualization"
      ]
    },
    {
      "cell_type": "code",
      "metadata": {
        "id": "K_G6IIPHkvCV",
        "colab_type": "code",
        "colab": {
          "base_uri": "https://localhost:8080/",
          "height": 104
        },
        "outputId": "37be7a8d-eb88-4886-a89c-93d7fa621e3d"
      },
      "source": [
        "#creating a tensorboard object to be called while training the model\n",
        "tensorboard = keras.callbacks.TensorBoard(log_dir='.../logs', histogram_freq=1, batch_size=1000, write_grads=True, write_images=True )"
      ],
      "execution_count": 195,
      "outputs": [
        {
          "output_type": "stream",
          "text": [
            "/usr/local/lib/python3.6/dist-packages/keras/callbacks/tensorboard_v2.py:92: UserWarning: The TensorBoard callback `batch_size` argument (for histogram computation) is deprecated with TensorFlow 2.0. It will be ignored.\n",
            "  warnings.warn('The TensorBoard callback `batch_size` argument '\n",
            "/usr/local/lib/python3.6/dist-packages/keras/callbacks/tensorboard_v2.py:97: UserWarning: The TensorBoard callback does not support gradients display when using TensorFlow 2.0. The `write_grads` argument is ignored.\n",
            "  warnings.warn('The TensorBoard callback does not support '\n"
          ],
          "name": "stderr"
        }
      ]
    },
    {
      "cell_type": "markdown",
      "metadata": {
        "id": "5Z3gEJFy5eM7",
        "colab_type": "text"
      },
      "source": [
        "###7. Model Training"
      ]
    },
    {
      "cell_type": "code",
      "metadata": {
        "id": "m5jVwnldEJd2",
        "colab_type": "code",
        "colab": {}
      },
      "source": [
        "model.compile(optimizer='adam', loss = 'sparse_categorical_crossentropy', metrics= ['accuracy'])"
      ],
      "execution_count": 194,
      "outputs": []
    },
    {
      "cell_type": "code",
      "metadata": {
        "id": "MLD5IEyREnO3",
        "colab_type": "code",
        "colab": {
          "base_uri": "https://localhost:8080/",
          "height": 857
        },
        "outputId": "685dcd26-ba3c-4a00-80f6-dcb46bac30e3"
      },
      "source": [
        "# Fitting the model with tensorboard object as callbacks\n",
        "model.fit(train_image, train_label, batch_size=1000, epochs = 24, validation_data=(test_image, test_label), callbacks=[tensorboard] )"
      ],
      "execution_count": 196,
      "outputs": [
        {
          "output_type": "stream",
          "text": [
            "Train on 60000 samples, validate on 10000 samples\n",
            "Epoch 1/24\n",
            "60000/60000 [==============================] - 2s 37us/step - loss: 0.8993 - accuracy: 0.6824 - val_loss: 0.5451 - val_accuracy: 0.8151\n",
            "Epoch 2/24\n",
            "60000/60000 [==============================] - 2s 27us/step - loss: 0.5324 - accuracy: 0.8156 - val_loss: 0.4557 - val_accuracy: 0.8432\n",
            "Epoch 3/24\n",
            "60000/60000 [==============================] - 2s 26us/step - loss: 0.4532 - accuracy: 0.8406 - val_loss: 0.4259 - val_accuracy: 0.8447\n",
            "Epoch 4/24\n",
            "60000/60000 [==============================] - 2s 28us/step - loss: 0.4132 - accuracy: 0.8542 - val_loss: 0.3961 - val_accuracy: 0.8590\n",
            "Epoch 5/24\n",
            "60000/60000 [==============================] - 2s 28us/step - loss: 0.3872 - accuracy: 0.8636 - val_loss: 0.3810 - val_accuracy: 0.8628\n",
            "Epoch 6/24\n",
            "60000/60000 [==============================] - 2s 27us/step - loss: 0.3673 - accuracy: 0.8701 - val_loss: 0.3669 - val_accuracy: 0.8680\n",
            "Epoch 7/24\n",
            "60000/60000 [==============================] - 2s 28us/step - loss: 0.3517 - accuracy: 0.8750 - val_loss: 0.3575 - val_accuracy: 0.8681\n",
            "Epoch 8/24\n",
            "60000/60000 [==============================] - 2s 27us/step - loss: 0.3392 - accuracy: 0.8778 - val_loss: 0.3513 - val_accuracy: 0.8729\n",
            "Epoch 9/24\n",
            "60000/60000 [==============================] - 2s 26us/step - loss: 0.3301 - accuracy: 0.8800 - val_loss: 0.3450 - val_accuracy: 0.8747\n",
            "Epoch 10/24\n",
            "60000/60000 [==============================] - 2s 27us/step - loss: 0.3190 - accuracy: 0.8842 - val_loss: 0.3410 - val_accuracy: 0.8765\n",
            "Epoch 11/24\n",
            "60000/60000 [==============================] - 2s 26us/step - loss: 0.3123 - accuracy: 0.8869 - val_loss: 0.3368 - val_accuracy: 0.8775\n",
            "Epoch 12/24\n",
            "60000/60000 [==============================] - 2s 27us/step - loss: 0.3043 - accuracy: 0.8896 - val_loss: 0.3425 - val_accuracy: 0.8769\n",
            "Epoch 13/24\n",
            "60000/60000 [==============================] - 2s 27us/step - loss: 0.2983 - accuracy: 0.8914 - val_loss: 0.3262 - val_accuracy: 0.8835\n",
            "Epoch 14/24\n",
            "60000/60000 [==============================] - 2s 27us/step - loss: 0.2939 - accuracy: 0.8934 - val_loss: 0.3279 - val_accuracy: 0.8811\n",
            "Epoch 15/24\n",
            "60000/60000 [==============================] - 2s 28us/step - loss: 0.2864 - accuracy: 0.8959 - val_loss: 0.3195 - val_accuracy: 0.8841\n",
            "Epoch 16/24\n",
            "60000/60000 [==============================] - 2s 27us/step - loss: 0.2774 - accuracy: 0.8983 - val_loss: 0.3211 - val_accuracy: 0.8818\n",
            "Epoch 17/24\n",
            "60000/60000 [==============================] - 2s 26us/step - loss: 0.2751 - accuracy: 0.9001 - val_loss: 0.3280 - val_accuracy: 0.8816\n",
            "Epoch 18/24\n",
            "60000/60000 [==============================] - 2s 27us/step - loss: 0.2687 - accuracy: 0.9020 - val_loss: 0.3195 - val_accuracy: 0.8856\n",
            "Epoch 19/24\n",
            "60000/60000 [==============================] - 2s 27us/step - loss: 0.2663 - accuracy: 0.9020 - val_loss: 0.3277 - val_accuracy: 0.8799\n",
            "Epoch 20/24\n",
            "60000/60000 [==============================] - 2s 27us/step - loss: 0.2593 - accuracy: 0.9040 - val_loss: 0.3197 - val_accuracy: 0.8858\n",
            "Epoch 21/24\n",
            "60000/60000 [==============================] - 2s 27us/step - loss: 0.2552 - accuracy: 0.9062 - val_loss: 0.3189 - val_accuracy: 0.8855\n",
            "Epoch 22/24\n",
            "60000/60000 [==============================] - 2s 27us/step - loss: 0.2515 - accuracy: 0.9073 - val_loss: 0.3191 - val_accuracy: 0.8870\n",
            "Epoch 23/24\n",
            "60000/60000 [==============================] - 2s 27us/step - loss: 0.2473 - accuracy: 0.9101 - val_loss: 0.3091 - val_accuracy: 0.8893\n",
            "Epoch 24/24\n",
            "60000/60000 [==============================] - 2s 27us/step - loss: 0.2403 - accuracy: 0.9111 - val_loss: 0.3104 - val_accuracy: 0.8908\n"
          ],
          "name": "stdout"
        },
        {
          "output_type": "execute_result",
          "data": {
            "text/plain": [
              "<keras.callbacks.callbacks.History at 0x7f71d3b03588>"
            ]
          },
          "metadata": {
            "tags": []
          },
          "execution_count": 196
        }
      ]
    },
    {
      "cell_type": "code",
      "metadata": {
        "id": "NRY5iLSCyopq",
        "colab_type": "code",
        "colab": {
          "base_uri": "https://localhost:8080/",
          "height": 353
        },
        "outputId": "0600e9fe-36b8-401d-c478-bac8a9c5287f"
      },
      "source": [
        "model.summary()"
      ],
      "execution_count": 230,
      "outputs": [
        {
          "output_type": "stream",
          "text": [
            "Model: \"sequential_9\"\n",
            "_________________________________________________________________\n",
            "Layer (type)                 Output Shape              Param #   \n",
            "=================================================================\n",
            "flatten_8 (Flatten)          (None, 784)               0         \n",
            "_________________________________________________________________\n",
            "dense_20 (Dense)             (None, 256)               200960    \n",
            "_________________________________________________________________\n",
            "dropout_7 (Dropout)          (None, 256)               0         \n",
            "_________________________________________________________________\n",
            "dense_21 (Dense)             (None, 64)                16448     \n",
            "_________________________________________________________________\n",
            "dropout_8 (Dropout)          (None, 64)                0         \n",
            "_________________________________________________________________\n",
            "dense_22 (Dense)             (None, 10)                650       \n",
            "=================================================================\n",
            "Total params: 218,058\n",
            "Trainable params: 218,058\n",
            "Non-trainable params: 0\n",
            "_________________________________________________________________\n"
          ],
          "name": "stdout"
        }
      ]
    },
    {
      "cell_type": "markdown",
      "metadata": {
        "id": "YMOFkxcV5nR8",
        "colab_type": "text"
      },
      "source": [
        "###8. Uploading the logs to TensorBoard.dev"
      ]
    },
    {
      "cell_type": "code",
      "metadata": {
        "id": "VKPfD0g8lBQ7",
        "colab_type": "code",
        "colab": {}
      },
      "source": [
        "# #checking out the TensorBoard dashboard to analyze training and validation performance with other statistics during the training of model\n",
        "%reload_ext tensorboard\n",
        "!tensorboard dev upload --logdir '.../logs' --name \"Deep Learning : Tensorboard\" --description \"Modeling a very simple Image Classifier based on Fashion MNIST dataset \" "
      ],
      "execution_count": 249,
      "outputs": []
    },
    {
      "cell_type": "markdown",
      "metadata": {
        "id": "rigop4zx7NGR",
        "colab_type": "text"
      },
      "source": [
        "Live Link : https://tensorboard.dev/experiment/u6hGU2LaQqKn1b1udgL1RA/"
      ]
    },
    {
      "cell_type": "markdown",
      "metadata": {
        "id": "PyxAin1gyyIN",
        "colab_type": "text"
      },
      "source": [
        "###9. Making a Sample Prediction"
      ]
    },
    {
      "cell_type": "code",
      "metadata": {
        "id": "UtwpaquvGcyv",
        "colab_type": "code",
        "colab": {
          "base_uri": "https://localhost:8080/",
          "height": 297
        },
        "outputId": "18d100fe-ae10-4c27-946e-713a16597f31"
      },
      "source": [
        "#selection of an image\n",
        "sample = test_image[6]\n",
        "plt.imshow(sample)\n",
        "plt.xlabel(class_labels[test_label[6]])\n",
        "plt.title(test_label[6])\n",
        "plt.tight_layout()"
      ],
      "execution_count": 237,
      "outputs": [
        {
          "output_type": "display_data",
          "data": {
            "image/png": "[encoded data removed]",
            "text/plain": [
              "<Figure size 432x288 with 1 Axes>"
            ]
          },
          "metadata": {
            "tags": [],
            "needs_background": "light"
          }
        }
      ]
    },
    {
      "cell_type": "code",
      "metadata": {
        "id": "ryxJ4OYxzIfr",
        "colab_type": "code",
        "colab": {
          "base_uri": "https://localhost:8080/",
          "height": 297
        },
        "outputId": "e179077f-849f-46a2-c177-0ef8427120c4"
      },
      "source": [
        "#Prediction using trained model\n",
        "results= model.predict(test_image[6].reshape(1,28,28))\n",
        "plt.bar(np.arange(0,10),results[0], tick_label=class_labels, )\n",
        "plt.xticks(rotation=45)\n",
        "plt.tight_layout()"
      ],
      "execution_count": 248,
      "outputs": [
        {
          "output_type": "display_data",
          "data": {
            "image/png": "[encoded data removed]",
            "text/plain": [
              "<Figure size 432x288 with 1 Axes>"
            ]
          },
          "metadata": {
            "tags": [],
            "needs_background": "light"
          }
        }
      ]
    },
    {
      "cell_type": "markdown",
      "metadata": {
        "id": "HNOrNhOK5zcl",
        "colab_type": "text"
      },
      "source": [
        "###Summary\n",
        "1. This Simple Deep learning Model performance shows it achieved an accuracy of 91% at the end of 24th Epochs, and validation accuracy of 89%.\n",
        "2. The divergence between the accuracies or loss function values indicates a potential overfitting. Model can be generalized using other regularization methodologies such as weight regularization, bias regularization, dropout and others.\n",
        "3. TensorBoard offered us high understanding of online-training performance and more details in the form of Graphs, Histograms and Distributions."
      ]
    }
  ]
}